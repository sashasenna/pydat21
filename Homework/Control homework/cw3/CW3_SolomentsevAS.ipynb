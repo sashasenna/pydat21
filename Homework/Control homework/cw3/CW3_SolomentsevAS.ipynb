{
 "cells": [
  {
   "cell_type": "markdown",
   "metadata": {},
   "source": [
    "### Лабораторная/Домашняя работа 3  \n",
    "\n",
    "Автор: Михаил Густокашин\n",
    "\n",
    "#### Disclaimer\n",
    "В некоторых заданиях нужно считывать файлы и записывать ответ в файл. Пожалуйста, читайте файлы из той же папки, где лежит блокнот (не прописывайте к ним полный путь) или загружайте файл по ссылке. Файл с ответом нужно вложить в архив с блокнотом и архив добавить в Dropbox.\n",
    "\n",
    "Всего можно набрать 12 баллов, максимальная оценка за работу - 10."
   ]
  },
  {
   "cell_type": "markdown",
   "metadata": {},
   "source": [
    "### Задание 1. Скрейпинг cтраницы (1 балл)\n",
    "\n",
    "Мы сохранили страницу с википедии про языки программирования и сохранили по адресу https://stepik.org/media/attachments/lesson/209717/1.html\n",
    "Скачайте её с помощью скрипта на Питоне и посчитайте, какой язык упоминается чаще Python или C++ (ответ должен быть одной из этих двух строк). Необходимо просто подсчитать количество вхождений слова Python или C++ как подстроки. Тут не нужно пользоваться парсингом и bs, работайте со строками."
   ]
  },
  {
   "cell_type": "code",
   "execution_count": 2,
   "metadata": {},
   "outputs": [
    {
     "name": "stdout",
     "output_type": "stream",
     "text": [
      "Язык C++ встречается чаще, а именно 17 раз.\n"
     ]
    }
   ],
   "source": [
    "# ваше решение здесь\n",
    "\n",
    "import requests\n",
    "\n",
    "text = requests.get('https://stepik.org/media/attachments/lesson/209717/1.html').text\n",
    "\n",
    "if text.count(\"Python\") > text.count(\"C++\"):\n",
    "    print(f'Язык Python встречается чаще, а именно {text.count(\"Python\")} раз.')\n",
    "else:\n",
    "    print(f'Язык C++ встречается чаще, а именно {text.count(\"C++\")} раз.')"
   ]
  },
  {
   "cell_type": "markdown",
   "metadata": {},
   "source": [
    "### Задание 2. Автоматизируем написание html скрипта (2 балла)\n",
    "В этой задаче вам необходимо научиться генерировать html-код на питоне и сдать на проверку html-файл, в котором будет таблица размером 10 на 10, которая должна содержать таблицу умножения для чисел от 1 до 10. При открытии вашего файла в браузере это должно выглядеть примерно так:\n",
    "\n",
    "![](table.jpg)\n",
    "\n",
    "```\n",
    "1. Ваш файл должен начинаться с тегов <html> и <body> и заканчиваться </body> и </html>.\n",
    "2. Для создания таблицы можно пользоваться тегами <table> (создание таблицы), \n",
    "<tr> (создание строки в таблице) и <td> (создание отдельной ячейки). \n",
    "Все открытые теги нужно закрыть, причем сделать это нужно в правильном порядке.\n",
    "3. Пожалуйста, не используйте никаких украшений и других тегов.\n",
    "```\n",
    "Ниже напишите код, который генерирует html и записывает его в файл, и приложите к архиву с вашим блокнотом файл **output2.html**"
   ]
  },
  {
   "cell_type": "code",
   "execution_count": 3,
   "metadata": {},
   "outputs": [],
   "source": [
    "# ваше решение здесь\n",
    "\n",
    "def table_elem_decorator(f):\n",
    "    def the_wrapper_around_the_original_function():\n",
    "        file.write('<td>\\n')\n",
    "        f()\n",
    "        file.write('</td>\\n')\n",
    "    return the_wrapper_around_the_original_function\n",
    "    \n",
    "def res():\n",
    "    return file.write(str(x * y) + '\\n')\n",
    "\n",
    "res_dec = table_elem_decorator(res)\n",
    "\n",
    "with open('output2.html', 'w') as file:\n",
    "    file.write('<html>\\n')\n",
    "    file.write('<body>\\n')\n",
    "    file.write('<table>\\n')\n",
    "    \n",
    "    for x in range(1,11):\n",
    "        file.write('<tr>\\n')\n",
    "        for y in range(1, 11):\n",
    "            res_dec()\n",
    "        file.write('</tr>\\n')\n",
    "\n",
    "    file.write('</table>\\n')\n",
    "    file.write('</body>\\n')\n",
    "    file.write('</html>')"
   ]
  },
  {
   "cell_type": "markdown",
   "metadata": {},
   "source": [
    "### Задание 3. Скрэйпинг ссылок (2 балла)\n",
    "\n",
    "*1 балл*  \n",
    "Мы сохранили статью с википедии, она доступна по ссылке https://stepik.org/media/attachments/lesson/258943/Moscow.html\n",
    "\n",
    "Вам необходимо обработать ее с помощью BeautifulSoup и подсчитать все внутренние ссылки, которые не содержат в себе двоеточия (не являются ссылкой на техническую статью в википедии) и не начинаются с символа #.\n",
    "\n",
    "Под ссылкой понимается содержимое аттрибута href тега a. Ссылка называется внешней, если она ведет на другой сайт (т.е. начинается с http:// или https://). Все остальные ссылки являются внутренними.\n",
    "Вам могут быть полезны методы find_all для супа (он позволяет найти все теги на странице), метод has_attr для тега (проверяет есть ли такой атрибут у тега) и доступ к атрибуту тега по аналогии со словарем.\n",
    "В качестве ответа выведите количество внутренних ссылок, удовлетворяющих условию.\n",
    "\n",
    "*1 балл*  \n",
    "В этой задаче достаточно обернуть в функцию то, что делает предыдущая и вызвать подсчет числа внутренних ссылок для двух статей: https://stepik.org/media/attachments/lesson/258943/Moscow.html и https://stepik.org/media/attachments/lesson/258944/New-York.html\n",
    "В качестве ответа на задачу выведите два числа через пробел.\n"
   ]
  },
  {
   "cell_type": "code",
   "execution_count": 4,
   "metadata": {},
   "outputs": [
    {
     "name": "stdout",
     "output_type": "stream",
     "text": [
      "1991 3207\n"
     ]
    }
   ],
   "source": [
    "# Ваше решение здесь\n",
    "\n",
    "import requests\n",
    "from bs4 import BeautifulSoup\n",
    "\n",
    "link1 = 'https://stepik.org/media/attachments/lesson/258943/Moscow.html'\n",
    "link2 = 'https://stepik.org/media/attachments/lesson/258944/New-York.html'\n",
    "\n",
    "def internal_link_counter(link):\n",
    "    page = requests.get(link).text\n",
    "    soup = BeautifulSoup(page, 'lxml')\n",
    "    links = list(filter(lambda x: x.has_attr('href') == True, soup.find_all('a')))\n",
    "    \n",
    "    res = 0\n",
    "\n",
    "    for i in links:\n",
    "        if i.attrs['href'].startswith('http://'):\n",
    "            continue\n",
    "        elif i.attrs['href'].startswith('https://'):\n",
    "            continue\n",
    "        elif i.attrs['href'].startswith('#'):\n",
    "            continue\n",
    "        elif ':' in i.attrs['href']:\n",
    "            continue\n",
    "\n",
    "        res += 1\n",
    "\n",
    "    return res\n",
    "\n",
    "print(internal_link_counter(link1), internal_link_counter(link2))"
   ]
  },
  {
   "cell_type": "markdown",
   "metadata": {},
   "source": [
    "### Задание 4. Скрейпинг таблицы (2 балла)\n",
    "\n",
    "В файле https://stepik.org/media/attachments/lesson/209723/3.html находится одна таблица. Просуммируйте все числа в ней и введите в качестве ответа одно число - эту сумму. Для доступа к ячейкам используйте возможности BeautifulSoup."
   ]
  },
  {
   "cell_type": "code",
   "execution_count": 5,
   "metadata": {},
   "outputs": [
    {
     "name": "stdout",
     "output_type": "stream",
     "text": [
      "1005425\n"
     ]
    }
   ],
   "source": [
    "# ваше решние здесь\n",
    "\n",
    "import requests\n",
    "from bs4 import BeautifulSoup\n",
    "\n",
    "page = requests.get('https://stepik.org/media/attachments/lesson/209723/3.html').text\n",
    "soup = BeautifulSoup(page, 'lxml')\n",
    "\n",
    "res = 0\n",
    "for num in soup.find_all('td'):\n",
    "    a = num.get_text().strip()\n",
    "    res += int(a)\n",
    "\n",
    "print(res)"
   ]
  },
  {
   "cell_type": "markdown",
   "metadata": {},
   "source": [
    "# Задание 5. Зарплата (1.5 балла)\n",
    "\n",
    "Главный бухгалтер компании \"Рога и копыта\" случайно удалил ведомость с начисленной зарплатой. К счастью, у него сохранились расчётные листки всех сотрудников. Помогите по этим расчётным листкам восстановить зарплатную ведомость. Архив с расчётными листками доступен по ссылке https://github.com/roctbb/pydat21/raw/main/Homework/cw3/rogaikopyta.zip (вы можете скачать и распаковать его вручную или самостоятельно научиться делать это с помощью скрипта на Питоне (например, вот a для zip как раз есть https://docs.python.org/3/library/zipfile.html).\n",
    "\n",
    "Ведомость должна содержать 1000 строк, в каждой строке должно быть указано ФИО сотрудника и, через пробел, его зарплата. Сотрудники должны быть упорядочены по алфавиту. Сохраните ответ в файл и приложите его к архиву с решениями.\n",
    "\n",
    "**Ответ: файл output5.txt**"
   ]
  },
  {
   "cell_type": "code",
   "execution_count": 7,
   "metadata": {},
   "outputs": [],
   "source": [
    "# ваше решение здесь\n",
    "\n",
    "import zipfile\n",
    "from openpyxl import load_workbook\n",
    "\n",
    "vedomost = []\n",
    "\n",
    "with zipfile.ZipFile('rogaikopyta.zip') as myzip:\n",
    "    for i in myzip.namelist():\n",
    "        with myzip.open(i) as myfile:\n",
    "            workbook = load_workbook(myfile)\n",
    "            vedomost.append([workbook.active['B2'].value, workbook.active['D2'].value])\n",
    "\n",
    "vedomost = sorted(vedomost)\n",
    "            \n",
    "with open('output5.txt', 'w') as f:\n",
    "    for person in vedomost:\n",
    "        line = ' '.join(list(map(lambda elem: str(elem), person))) + '\\n'\n",
    "        f.write(line)"
   ]
  },
  {
   "cell_type": "markdown",
   "metadata": {},
   "source": [
    "# Задание 6. Медиана (2 балла)\n",
    "\n",
    "Вася планирует карьеру и переезд. Для это составил таблицу, в которой для каждого региона записал зарплаты для разных интересных ему профессий. Таблица доступна по ссылке https://github.com/roctbb/pydat21/raw/main/Homework/cw3/salaries.xlsx. Выведите название региона с самой высокой медианной зарплатой (медианой называется элемент, стоящий в середине массива после его упорядочивания) и, через пробел, название профессии с самой высокой средней зарплатой по всем регионам."
   ]
  },
  {
   "cell_type": "code",
   "execution_count": 6,
   "metadata": {},
   "outputs": [
    {
     "name": "stdout",
     "output_type": "stream",
     "text": [
      "Куала-Лумпур Менеджер по клинингу\n"
     ]
    }
   ],
   "source": [
    "# ваше решение здесь\n",
    "\n",
    "from openpyxl import load_workbook\n",
    "workbook = load_workbook(filename='salaries.xlsx')\n",
    "sheet = workbook.active\n",
    "\n",
    "# поиск региона с самой высокой медианной зарплатой\n",
    "regions = {}\n",
    "\n",
    "for cell in sheet[\"a\"][1:sheet.max_row-1]:\n",
    "    regions[cell.value] = sorted([x.value for x in sheet[cell.row][1:sheet.max_column-1]])[4]\n",
    "    \n",
    "max_median_salary = max(list(regions.values()))\n",
    "region = list(regions.keys())[list(regions.values()).index(max_median_salary)]\n",
    "\n",
    "# поиск профессии с самой высокой средней зарплатой\n",
    "professions = {}\n",
    "\n",
    "for lit in list(sheet.column_dimensions)[1:sheet.max_column-1]:\n",
    "    professions[sheet[lit][0].value] = max([x.value for x in sheet[lit][1:sheet.max_row-1]])\n",
    "    \n",
    "max_salary_profession = max(list(professions.values()))\n",
    "profession = list(professions.keys())[list(professions.values()).index(max_salary_profession)]\n",
    "\n",
    "\n",
    "print(region, profession)"
   ]
  },
  {
   "cell_type": "markdown",
   "metadata": {},
   "source": [
    "# Задание 7. Вася-завхоз (1.5 балла)\n",
    "\n",
    "Васю назначили завхозом в туристической группе и он подошёл к подготовке ответственно, составив справочник продуктов с указанием калорийности на 100 грамм, а также содержание белков, жиров и углеводов на 100 грамм продукта. Ему не удалось найти всю информацию, поэтому некоторые ячейки остались незаполненными (можно считать их значение равным нулю). Также он использовал какой-то странный офисный пакет и разделял целую и дробную часть чисел запятой. Таблица доступна по ссылке https://github.com/roctbb/pydat21/raw/main/Homework/cw3/trekking1.xlsx\n",
    "Вася хочет минимизировать вес продуктов и для этого брать самые калорийные продукты. Помогите ему и упорядочите продукты по убыванию калорийности. В случае, если продукты имеют одинаковую калорийность - упорядочите их по названию. \n",
    "\n",
    "В качестве ответа необходимо вывести названия продуктов, по одному в строке.\n"
   ]
  },
  {
   "cell_type": "code",
   "execution_count": 1,
   "metadata": {},
   "outputs": [
    {
     "name": "stdout",
     "output_type": "stream",
     "text": [
      "Шоколад молочный какао\n",
      "Шоколад молочный миндаль\n",
      "Сухофрукты\n",
      "Омлет с копченостями галагала\n",
      "Свинина сублимрованная\n",
      "Шоколад ремесленный\n",
      "Козинак подсолнечный\n",
      "Омлет с грибами галагала\n",
      "Козинак арахисовый\n",
      "Хлебцы льняные \"Тайские\"\n",
      "Колбаса с/к \"Еврейская полусухая\"\n",
      "Говядина сублимрованная\n",
      "Сухарики ржаные с семечками\n",
      "Хлебцы льняные Морские\n",
      "Суп говяжий с картофелем галагала\n",
      "Суп гороховый с копченостями\n",
      "Суп гороховый с копченостями галагала\n",
      "Суп куриный с картофелем галагала\n",
      "Суп-гуляш галагала\n",
      "Суп-харчо \"Острый\"\n",
      "Сыр Маасдам\n",
      "Сыр Чеддер\n",
      "Борщ Московский Галагала\n",
      "Крупа гречневая\n",
      "Рис пропаренный Увелка\n",
      "Свинина Кронидов\n",
      "Сухарики ржаные Finn Crisp\n",
      "Капеллини Макфа\n",
      "Сыр Гауда\n",
      "Кус Кус\n",
      "Каша Быстров\n",
      "Картофель сушеный\n",
      "Говядина Кронидов\n",
      "Хлебцы с чесноком и луком\n",
      "Суп томатный с рисом\n",
      "Балык \"Королевский\"\n",
      "Паутина\n"
     ]
    }
   ],
   "source": [
    "# ваше решение здесь\n",
    "\n",
    "from openpyxl import load_workbook\n",
    "workbook = load_workbook('trekking1.xlsx')\n",
    "sheet = workbook.active\n",
    "\n",
    "products = {}\n",
    "\n",
    "for prod in sheet[\"A\"][1:]:\n",
    "    products[prod.value] = sheet[prod.row][1].value\n",
    "    \n",
    "products = sorted(products.items())\n",
    "products_sorted = sorted(products, key= lambda item: item[1], reverse=True)\n",
    "\n",
    "result = []\n",
    "for pr in products_sorted:\n",
    "    result.append(pr[0])\n",
    "    \n",
    "print(*result, sep='\\n')"
   ]
  },
  {
   "cell_type": "code",
   "execution_count": null,
   "metadata": {},
   "outputs": [],
   "source": []
  }
 ],
 "metadata": {
  "kernelspec": {
   "display_name": "Python 3",
   "language": "python",
   "name": "python3"
  },
  "language_info": {
   "codemirror_mode": {
    "name": "ipython",
    "version": 3
   },
   "file_extension": ".py",
   "mimetype": "text/x-python",
   "name": "python",
   "nbconvert_exporter": "python",
   "pygments_lexer": "ipython3",
   "version": "3.8.8"
  }
 },
 "nbformat": 4,
 "nbformat_minor": 2
}
