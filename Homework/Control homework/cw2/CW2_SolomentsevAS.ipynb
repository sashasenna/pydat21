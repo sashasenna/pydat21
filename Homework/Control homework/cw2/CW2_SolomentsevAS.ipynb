{
 "cells": [
  {
   "cell_type": "markdown",
   "metadata": {},
   "source": [
    "### Центр непрерывного образования\n",
    "# Программа «Python для автоматизации и анализа данных»¶\n",
    "\n",
    "Лабораторная/Домашняя работа # 2\n",
    "\n",
    "#### Disclaimer\n",
    "В некоторых заданиях нужно считывать файлы и записывать ответ в файл. Пожалуйста, читайте файлы из той же папки, где лежит к ним блокнот (не прописывайте к ним полный путь). Файл с ответом нужно вложить в архив с блокнотом и архив добавить в Dropbox.\n",
    "\n",
    "Всего можно набрать 12 баллов, максимальная оценка за работу - 10."
   ]
  },
  {
   "cell_type": "markdown",
   "metadata": {},
   "source": [
    "# Задание 1: Turtle (2 балла)\n",
    "\n",
    "Для выполнения этого задания нужно установить и импортировать модуль turtle - это черепашка с привязанной к спине кисточкой, движения которой мы программируем. Исполните следующую ячейку, чтобы установить нужный модуль.\n",
    "\n",
    "[Документация](https://github.com/takluyver/mobilechelonian)"
   ]
  },
  {
   "cell_type": "code",
   "execution_count": 1,
   "metadata": {},
   "outputs": [
    {
     "name": "stdout",
     "output_type": "stream",
     "text": [
      "Requirement already satisfied: mobilechelonian in /Users/alexandersolomentsev/opt/anaconda3/lib/python3.8/site-packages (0.5)\n",
      "Requirement already satisfied: ipywidgets>=7.0.0 in /Users/alexandersolomentsev/opt/anaconda3/lib/python3.8/site-packages (from mobilechelonian) (7.6.3)\n",
      "Requirement already satisfied: IPython in /Users/alexandersolomentsev/opt/anaconda3/lib/python3.8/site-packages (from mobilechelonian) (7.22.0)\n",
      "Requirement already satisfied: traitlets>=4.3.1 in /Users/alexandersolomentsev/opt/anaconda3/lib/python3.8/site-packages (from ipywidgets>=7.0.0->mobilechelonian) (5.0.5)\n",
      "Requirement already satisfied: widgetsnbextension~=3.5.0 in /Users/alexandersolomentsev/opt/anaconda3/lib/python3.8/site-packages (from ipywidgets>=7.0.0->mobilechelonian) (3.5.1)\n",
      "Requirement already satisfied: jupyterlab-widgets>=1.0.0 in /Users/alexandersolomentsev/opt/anaconda3/lib/python3.8/site-packages (from ipywidgets>=7.0.0->mobilechelonian) (1.0.0)\n",
      "Requirement already satisfied: ipykernel>=4.5.1 in /Users/alexandersolomentsev/opt/anaconda3/lib/python3.8/site-packages (from ipywidgets>=7.0.0->mobilechelonian) (5.3.4)\n",
      "Requirement already satisfied: nbformat>=4.2.0 in /Users/alexandersolomentsev/opt/anaconda3/lib/python3.8/site-packages (from ipywidgets>=7.0.0->mobilechelonian) (5.1.3)\n",
      "Requirement already satisfied: appnope in /Users/alexandersolomentsev/opt/anaconda3/lib/python3.8/site-packages (from ipykernel>=4.5.1->ipywidgets>=7.0.0->mobilechelonian) (0.1.2)\n",
      "Requirement already satisfied: jupyter-client in /Users/alexandersolomentsev/opt/anaconda3/lib/python3.8/site-packages (from ipykernel>=4.5.1->ipywidgets>=7.0.0->mobilechelonian) (6.1.12)\n",
      "Requirement already satisfied: tornado>=4.2 in /Users/alexandersolomentsev/opt/anaconda3/lib/python3.8/site-packages (from ipykernel>=4.5.1->ipywidgets>=7.0.0->mobilechelonian) (6.1)\n",
      "Requirement already satisfied: jedi>=0.16 in /Users/alexandersolomentsev/opt/anaconda3/lib/python3.8/site-packages (from IPython->mobilechelonian) (0.17.2)\n",
      "Requirement already satisfied: decorator in /Users/alexandersolomentsev/opt/anaconda3/lib/python3.8/site-packages (from IPython->mobilechelonian) (4.4.2)\n",
      "Requirement already satisfied: backcall in /Users/alexandersolomentsev/opt/anaconda3/lib/python3.8/site-packages (from IPython->mobilechelonian) (0.2.0)\n",
      "Requirement already satisfied: pexpect>4.3 in /Users/alexandersolomentsev/opt/anaconda3/lib/python3.8/site-packages (from IPython->mobilechelonian) (4.8.0)\n",
      "Requirement already satisfied: pygments in /Users/alexandersolomentsev/opt/anaconda3/lib/python3.8/site-packages (from IPython->mobilechelonian) (2.8.1)\n",
      "Requirement already satisfied: pickleshare in /Users/alexandersolomentsev/opt/anaconda3/lib/python3.8/site-packages (from IPython->mobilechelonian) (0.7.5)\n",
      "Requirement already satisfied: prompt-toolkit!=3.0.0,!=3.0.1,<3.1.0,>=2.0.0 in /Users/alexandersolomentsev/opt/anaconda3/lib/python3.8/site-packages (from IPython->mobilechelonian) (3.0.17)\n",
      "Requirement already satisfied: setuptools>=18.5 in /Users/alexandersolomentsev/opt/anaconda3/lib/python3.8/site-packages (from IPython->mobilechelonian) (52.0.0.post20210125)\n",
      "Requirement already satisfied: parso<0.8.0,>=0.7.0 in /Users/alexandersolomentsev/opt/anaconda3/lib/python3.8/site-packages (from jedi>=0.16->IPython->mobilechelonian) (0.7.0)\n",
      "Requirement already satisfied: jsonschema!=2.5.0,>=2.4 in /Users/alexandersolomentsev/opt/anaconda3/lib/python3.8/site-packages (from nbformat>=4.2.0->ipywidgets>=7.0.0->mobilechelonian) (3.2.0)\n",
      "Requirement already satisfied: ipython-genutils in /Users/alexandersolomentsev/opt/anaconda3/lib/python3.8/site-packages (from nbformat>=4.2.0->ipywidgets>=7.0.0->mobilechelonian) (0.2.0)\n",
      "Requirement already satisfied: jupyter-core in /Users/alexandersolomentsev/opt/anaconda3/lib/python3.8/site-packages (from nbformat>=4.2.0->ipywidgets>=7.0.0->mobilechelonian) (4.7.1)\n",
      "Requirement already satisfied: pyrsistent>=0.14.0 in /Users/alexandersolomentsev/opt/anaconda3/lib/python3.8/site-packages (from jsonschema!=2.5.0,>=2.4->nbformat>=4.2.0->ipywidgets>=7.0.0->mobilechelonian) (0.17.3)\n",
      "Requirement already satisfied: attrs>=17.4.0 in /Users/alexandersolomentsev/opt/anaconda3/lib/python3.8/site-packages (from jsonschema!=2.5.0,>=2.4->nbformat>=4.2.0->ipywidgets>=7.0.0->mobilechelonian) (20.3.0)\n",
      "Requirement already satisfied: six>=1.11.0 in /Users/alexandersolomentsev/opt/anaconda3/lib/python3.8/site-packages (from jsonschema!=2.5.0,>=2.4->nbformat>=4.2.0->ipywidgets>=7.0.0->mobilechelonian) (1.15.0)\n",
      "Requirement already satisfied: ptyprocess>=0.5 in /Users/alexandersolomentsev/opt/anaconda3/lib/python3.8/site-packages (from pexpect>4.3->IPython->mobilechelonian) (0.7.0)\n",
      "Requirement already satisfied: wcwidth in /Users/alexandersolomentsev/opt/anaconda3/lib/python3.8/site-packages (from prompt-toolkit!=3.0.0,!=3.0.1,<3.1.0,>=2.0.0->IPython->mobilechelonian) (0.2.5)\n",
      "Requirement already satisfied: notebook>=4.4.1 in /Users/alexandersolomentsev/opt/anaconda3/lib/python3.8/site-packages (from widgetsnbextension~=3.5.0->ipywidgets>=7.0.0->mobilechelonian) (6.3.0)\n",
      "Requirement already satisfied: terminado>=0.8.3 in /Users/alexandersolomentsev/opt/anaconda3/lib/python3.8/site-packages (from notebook>=4.4.1->widgetsnbextension~=3.5.0->ipywidgets>=7.0.0->mobilechelonian) (0.9.4)\n",
      "Requirement already satisfied: jinja2 in /Users/alexandersolomentsev/opt/anaconda3/lib/python3.8/site-packages (from notebook>=4.4.1->widgetsnbextension~=3.5.0->ipywidgets>=7.0.0->mobilechelonian) (2.11.3)\n",
      "Requirement already satisfied: nbconvert in /Users/alexandersolomentsev/opt/anaconda3/lib/python3.8/site-packages (from notebook>=4.4.1->widgetsnbextension~=3.5.0->ipywidgets>=7.0.0->mobilechelonian) (6.0.7)\n",
      "Requirement already satisfied: prometheus-client in /Users/alexandersolomentsev/opt/anaconda3/lib/python3.8/site-packages (from notebook>=4.4.1->widgetsnbextension~=3.5.0->ipywidgets>=7.0.0->mobilechelonian) (0.10.1)\n",
      "Requirement already satisfied: Send2Trash>=1.5.0 in /Users/alexandersolomentsev/opt/anaconda3/lib/python3.8/site-packages (from notebook>=4.4.1->widgetsnbextension~=3.5.0->ipywidgets>=7.0.0->mobilechelonian) (1.5.0)\n",
      "Requirement already satisfied: pyzmq>=17 in /Users/alexandersolomentsev/opt/anaconda3/lib/python3.8/site-packages (from notebook>=4.4.1->widgetsnbextension~=3.5.0->ipywidgets>=7.0.0->mobilechelonian) (20.0.0)\n",
      "Requirement already satisfied: argon2-cffi in /Users/alexandersolomentsev/opt/anaconda3/lib/python3.8/site-packages (from notebook>=4.4.1->widgetsnbextension~=3.5.0->ipywidgets>=7.0.0->mobilechelonian) (20.1.0)\n",
      "Requirement already satisfied: python-dateutil>=2.1 in /Users/alexandersolomentsev/opt/anaconda3/lib/python3.8/site-packages (from jupyter-client->ipykernel>=4.5.1->ipywidgets>=7.0.0->mobilechelonian) (2.8.1)\n",
      "Requirement already satisfied: cffi>=1.0.0 in /Users/alexandersolomentsev/opt/anaconda3/lib/python3.8/site-packages (from argon2-cffi->notebook>=4.4.1->widgetsnbextension~=3.5.0->ipywidgets>=7.0.0->mobilechelonian) (1.14.5)\n",
      "Requirement already satisfied: pycparser in /Users/alexandersolomentsev/opt/anaconda3/lib/python3.8/site-packages (from cffi>=1.0.0->argon2-cffi->notebook>=4.4.1->widgetsnbextension~=3.5.0->ipywidgets>=7.0.0->mobilechelonian) (2.20)\n",
      "Requirement already satisfied: MarkupSafe>=0.23 in /Users/alexandersolomentsev/opt/anaconda3/lib/python3.8/site-packages (from jinja2->notebook>=4.4.1->widgetsnbextension~=3.5.0->ipywidgets>=7.0.0->mobilechelonian) (1.1.1)\n",
      "Requirement already satisfied: mistune<2,>=0.8.1 in /Users/alexandersolomentsev/opt/anaconda3/lib/python3.8/site-packages (from nbconvert->notebook>=4.4.1->widgetsnbextension~=3.5.0->ipywidgets>=7.0.0->mobilechelonian) (0.8.4)\n",
      "Requirement already satisfied: jupyterlab-pygments in /Users/alexandersolomentsev/opt/anaconda3/lib/python3.8/site-packages (from nbconvert->notebook>=4.4.1->widgetsnbextension~=3.5.0->ipywidgets>=7.0.0->mobilechelonian) (0.1.2)\n",
      "Requirement already satisfied: pandocfilters>=1.4.1 in /Users/alexandersolomentsev/opt/anaconda3/lib/python3.8/site-packages (from nbconvert->notebook>=4.4.1->widgetsnbextension~=3.5.0->ipywidgets>=7.0.0->mobilechelonian) (1.4.3)\n",
      "Requirement already satisfied: entrypoints>=0.2.2 in /Users/alexandersolomentsev/opt/anaconda3/lib/python3.8/site-packages (from nbconvert->notebook>=4.4.1->widgetsnbextension~=3.5.0->ipywidgets>=7.0.0->mobilechelonian) (0.3)\n",
      "Requirement already satisfied: bleach in /Users/alexandersolomentsev/opt/anaconda3/lib/python3.8/site-packages (from nbconvert->notebook>=4.4.1->widgetsnbextension~=3.5.0->ipywidgets>=7.0.0->mobilechelonian) (3.3.0)\n",
      "Requirement already satisfied: nbclient<0.6.0,>=0.5.0 in /Users/alexandersolomentsev/opt/anaconda3/lib/python3.8/site-packages (from nbconvert->notebook>=4.4.1->widgetsnbextension~=3.5.0->ipywidgets>=7.0.0->mobilechelonian) (0.5.3)\n",
      "Requirement already satisfied: defusedxml in /Users/alexandersolomentsev/opt/anaconda3/lib/python3.8/site-packages (from nbconvert->notebook>=4.4.1->widgetsnbextension~=3.5.0->ipywidgets>=7.0.0->mobilechelonian) (0.7.1)\n",
      "Requirement already satisfied: testpath in /Users/alexandersolomentsev/opt/anaconda3/lib/python3.8/site-packages (from nbconvert->notebook>=4.4.1->widgetsnbextension~=3.5.0->ipywidgets>=7.0.0->mobilechelonian) (0.4.4)\n",
      "Requirement already satisfied: async-generator in /Users/alexandersolomentsev/opt/anaconda3/lib/python3.8/site-packages (from nbclient<0.6.0,>=0.5.0->nbconvert->notebook>=4.4.1->widgetsnbextension~=3.5.0->ipywidgets>=7.0.0->mobilechelonian) (1.10)\n"
     ]
    },
    {
     "name": "stdout",
     "output_type": "stream",
     "text": [
      "Requirement already satisfied: nest-asyncio in /Users/alexandersolomentsev/opt/anaconda3/lib/python3.8/site-packages (from nbclient<0.6.0,>=0.5.0->nbconvert->notebook>=4.4.1->widgetsnbextension~=3.5.0->ipywidgets>=7.0.0->mobilechelonian) (1.5.1)\r\n",
      "Requirement already satisfied: webencodings in /Users/alexandersolomentsev/opt/anaconda3/lib/python3.8/site-packages (from bleach->nbconvert->notebook>=4.4.1->widgetsnbextension~=3.5.0->ipywidgets>=7.0.0->mobilechelonian) (0.5.1)\r\n",
      "Requirement already satisfied: packaging in /Users/alexandersolomentsev/opt/anaconda3/lib/python3.8/site-packages (from bleach->nbconvert->notebook>=4.4.1->widgetsnbextension~=3.5.0->ipywidgets>=7.0.0->mobilechelonian) (20.9)\r\n",
      "Requirement already satisfied: pyparsing>=2.0.2 in /Users/alexandersolomentsev/opt/anaconda3/lib/python3.8/site-packages (from packaging->bleach->nbconvert->notebook>=4.4.1->widgetsnbextension~=3.5.0->ipywidgets>=7.0.0->mobilechelonian) (2.4.7)\r\n"
     ]
    }
   ],
   "source": [
    "!pip install mobilechelonian"
   ]
  },
  {
   "cell_type": "markdown",
   "metadata": {},
   "source": [
    "Ниже показан пример, как нарисовать квадрат."
   ]
  },
  {
   "cell_type": "code",
   "execution_count": 1,
   "metadata": {},
   "outputs": [
    {
     "data": {
      "application/vnd.jupyter.widget-view+json": {
       "model_id": "34f3968ed98345f2b880fa4d6d56e377",
       "version_major": 2,
       "version_minor": 0
      },
      "text/plain": [
       "Turtle()"
      ]
     },
     "metadata": {},
     "output_type": "display_data"
    }
   ],
   "source": [
    "from mobilechelonian import Turtle # импортируем модуль для рисования\n",
    "\n",
    "t = Turtle() # создаем класс нашей черепашки\n",
    "\n",
    "t.speed(5) # задаем скорость\n",
    "t.pendown() # ставим \"кисть\" на холст\n",
    "t.forward(100) # идем вперед на 100 шагов\n",
    "t.right(90) # поворачиваем на 90 градусов вправо\n",
    "t.forward(100)\n",
    "t.right(90)\n",
    "t.forward(100)\n",
    "t.right(90)\n",
    "t.forward(100)\n",
    "t.penup() # поднимаем кисть"
   ]
  },
  {
   "cell_type": "markdown",
   "metadata": {},
   "source": [
    "Теперь то же самое с циклом. Также мы убрали команды penup и pendown, потому что по умолчанию кисть стоит на холсте, и в этой программе эта операция излишня."
   ]
  },
  {
   "cell_type": "code",
   "execution_count": 2,
   "metadata": {},
   "outputs": [
    {
     "data": {
      "application/vnd.jupyter.widget-view+json": {
       "model_id": "1287eeb81ab949318be2a6d5c17d9210",
       "version_major": 2,
       "version_minor": 0
      },
      "text/plain": [
       "Turtle()"
      ]
     },
     "metadata": {},
     "output_type": "display_data"
    }
   ],
   "source": [
    "from mobilechelonian import Turtle # импортируем модуль для рисования\n",
    "\n",
    "t = Turtle() # создаем класс нашей черепашки\n",
    "\n",
    "t.speed(5) # задаем скорость\n",
    "t.forward(100)\n",
    "\n",
    "for i in range(3):\n",
    "    t.right(90)\n",
    "    t.forward(100)"
   ]
  },
  {
   "cell_type": "markdown",
   "metadata": {},
   "source": [
    "Рисуем круг."
   ]
  },
  {
   "cell_type": "code",
   "execution_count": 3,
   "metadata": {},
   "outputs": [
    {
     "data": {
      "application/vnd.jupyter.widget-view+json": {
       "model_id": "c92fc1b9e7864b49a75714364c2438d4",
       "version_major": 2,
       "version_minor": 0
      },
      "text/plain": [
       "Turtle()"
      ]
     },
     "metadata": {},
     "output_type": "display_data"
    }
   ],
   "source": [
    "t = Turtle() # создаем класс нашей черепашки\n",
    "\n",
    "t.speed(1) # задаем скорость\n",
    "\n",
    "t.penup(); t.left(90); t.forward(200);t.right(90) # поднимаем кисть с холста, проходим вперед, чтобы наш круг точно вместился\n",
    "t.pendown() # ставим кисть обратно на холст, иначе не будет рисовать\n",
    "colours = [\"yellow\", \"gold\", \"orange\", \"red\", \"maroon\", \"violet\", \"magenta\", \"gray\", \"white\"]\n",
    "\n",
    "for i in range (0,180):\n",
    "    t.pencolor(colours[i%7]) # есть список цветов, выбираем цвет в зависимости от i\n",
    "    t.right(2) # поворачиваемся на два градус\n",
    "    t.forward(5) # проходим 5 единиц"
   ]
  },
  {
   "cell_type": "markdown",
   "metadata": {},
   "source": [
    "#### Лепесток (1 балл)\n",
    "Вам задана функция left_turn(), которая рисует дугу. \n",
    "Создайте функцию petal, которая будет, используя функцию left_turn(), рисовать лепесток целиком и возвращать черепашку в центр цветка.\n",
    "\n",
    "Запустив функцию petal в цикле нарисуйте цветок с пятью лепестками (см. картинку).\n",
    "![](petal.png)"
   ]
  },
  {
   "cell_type": "code",
   "execution_count": 31,
   "metadata": {
    "scrolled": false
   },
   "outputs": [
    {
     "data": {
      "application/vnd.jupyter.widget-view+json": {
       "model_id": "e100a022de3247b9a76babf43edaf23b",
       "version_major": 2,
       "version_minor": 0
      },
      "text/plain": [
       "Turtle()"
      ]
     },
     "metadata": {},
     "output_type": "display_data"
    }
   ],
   "source": [
    "# дополните код в этой ячейке\n",
    "t = Turtle()\n",
    "t.speed(5)\n",
    "t.pencolor('magenta')\n",
    "\n",
    "def left_turn():\n",
    "    for i in range(10):\n",
    "        t.forward(15)\n",
    "        t.left(9)\n",
    "        \n",
    "def pental():\n",
    "    petals = range(5)\n",
    "    circle = 360\n",
    "    for petal in petals:\n",
    "        left_turn()\n",
    "        t.left(90)\n",
    "        left_turn()\n",
    "        t.left(90 + circle/len(petals))\n",
    "    \n",
    "pental()"
   ]
  },
  {
   "cell_type": "markdown",
   "metadata": {},
   "source": [
    "#### Звезда (1 балл)\n",
    "Напишите функцию, которая берет аргументом число - количество лучей звезды от 5 до 20. Ваша функция должна рисовать звезду с заданным количеством лучей. Запустите получившуюся функцию для 5, 11 и 20 лучей (в трех разных ячейках). Длина луча 200 единиц.\n",
    "\n",
    "*Подсказка:* Угол поворота черепашки зависит от количества лучшей - она поворачивается на 180 градусов минус 180 градусов разделенные на количество лучей."
   ]
  },
  {
   "cell_type": "code",
   "execution_count": 4,
   "metadata": {},
   "outputs": [],
   "source": [
    "# ваше решение здесь\n",
    "\n",
    "from mobilechelonian import Turtle\n",
    "\n",
    "def star_painter():\n",
    "    t = Turtle()\n",
    "    t.speed(15)\n",
    "    \n",
    "    # Для 3, 5, 7, 9, 13, 15 конечной звезды\n",
    "    def t_painter_odd(n):\n",
    "        for i in range(n):\n",
    "            t.right(180 - round(180/n, 0))\n",
    "            t.forward(200)\n",
    "    \n",
    "    # Для 8, 12, 20  конечной звезды\n",
    "    def t_painter_even(n):\n",
    "        for i in range(n):\n",
    "            t.right(180 - round(360/n, 0))\n",
    "            t.forward(200)\n",
    "    \n",
    "    while True:\n",
    "        try:\n",
    "            NumberOfStarRays = int(input(\"Введите число от 5 до 20: \"))\n",
    "            if NumberOfStarRays < 5 or NumberOfStarRays > 20:\n",
    "                print('Число должно быть в диапазоне от 5 до 20!')\n",
    "                continue\n",
    "            else:\n",
    "                break\n",
    "        except ValueError:\n",
    "            print(\"Это не число. Попробуйте еще раз ввести число в диапазоне от 5 до 20!\")\n",
    "            \n",
    "    t.penup(); t.forward(100); t.pendown()\n",
    "    \n",
    "    if NumberOfStarRays in [5, 7, 9, 13, 15]:\n",
    "        t_painter_odd(NumberOfStarRays)\n",
    "    \n",
    "    if NumberOfStarRays in [8, 12, 20]:\n",
    "        t_painter_even(NumberOfStarRays)\n",
    "        \n",
    "    if NumberOfStarRays == 6:\n",
    "        n = int(NumberOfStarRays / 2)\n",
    "        t_painter_odd(n)\n",
    "        t.penup(); t.right(90); t.forward(116); t.left(30); t.pendown()\n",
    "        t_painter_odd(n)     \n",
    "            \n",
    "    if NumberOfStarRays == 10:\n",
    "        n = int(NumberOfStarRays / 2)\n",
    "        t_painter_odd(n)\n",
    "        t.penup(); t.right(180); t.forward(100); t.left(90); t.forward(150); t.right(180/(2 * n)); t.pendown()\n",
    "        t_painter_odd(n)\n",
    "            \n",
    "    if NumberOfStarRays == 14:\n",
    "        n = int(NumberOfStarRays / 2)\n",
    "        t_painter_odd(n)\n",
    "        t.penup(); t.right(180); t.forward(100); t.right(90); t.forward(80); t.right(round(180/(2 * n), 0)); t.pendown()\n",
    "        t_painter_odd(n)\n",
    "    \n",
    "    if NumberOfStarRays == 16:\n",
    "        for i in range(NumberOfStarRays - 1):\n",
    "            t.right(180 - round(360/NumberOfStarRays, 0))\n",
    "            t.forward(200)\n",
    "        t.right(180 - round(360/NumberOfStarRays, 0) - 4)\n",
    "        t.forward(200)\n",
    "    \n",
    "    if NumberOfStarRays == 18:\n",
    "        n = int(NumberOfStarRays / 2)\n",
    "        t_painter_odd(n)\n",
    "        t.penup(); t.right(180); t.forward(100); t.left(90); t.forward(120); t.right(round(180/(2 * n), 0)); t.pendown()\n",
    "        t_painter_odd(n)\n",
    "    \n",
    "    if NumberOfStarRays == 11:\n",
    "        for i in range(NumberOfStarRays - 1):\n",
    "            t.right(180 - round(180/NumberOfStarRays, 0))\n",
    "            t.forward(200)\n",
    "        t.right(180 - round(180/NumberOfStarRays, 0) - 2)\n",
    "        t.forward(200)\n",
    "    \n",
    "    if NumberOfStarRays == 17:\n",
    "        for i in range(NumberOfStarRays - 1):\n",
    "            t.right(180 - round(180/NumberOfStarRays, 0))\n",
    "            t.forward(200)\n",
    "        t.right(180 - round(180/NumberOfStarRays, 0) + 3)\n",
    "        t.forward(200)\n",
    "        \n",
    "    if NumberOfStarRays == 19:\n",
    "        for i in range(NumberOfStarRays - 1):\n",
    "            t.right(180 - round(180/NumberOfStarRays, 0))\n",
    "            t.forward(200)\n",
    "        t.right(180 - round(180/NumberOfStarRays, 0) - 4)\n",
    "        t.forward(200)"
   ]
  },
  {
   "cell_type": "code",
   "execution_count": 5,
   "metadata": {},
   "outputs": [
    {
     "data": {
      "application/vnd.jupyter.widget-view+json": {
       "model_id": "267a83804bb4474c9cad0ea6eb2837ea",
       "version_major": 2,
       "version_minor": 0
      },
      "text/plain": [
       "Turtle()"
      ]
     },
     "metadata": {},
     "output_type": "display_data"
    },
    {
     "name": "stdout",
     "output_type": "stream",
     "text": [
      "Введите число от 5 до 20: 5\n"
     ]
    }
   ],
   "source": [
    "star_painter()"
   ]
  },
  {
   "cell_type": "code",
   "execution_count": 6,
   "metadata": {},
   "outputs": [
    {
     "data": {
      "application/vnd.jupyter.widget-view+json": {
       "model_id": "e359a5044df641e29d75bc525fac7c65",
       "version_major": 2,
       "version_minor": 0
      },
      "text/plain": [
       "Turtle()"
      ]
     },
     "metadata": {},
     "output_type": "display_data"
    },
    {
     "name": "stdout",
     "output_type": "stream",
     "text": [
      "Введите число от 5 до 20: 11\n"
     ]
    }
   ],
   "source": [
    "star_painter()"
   ]
  },
  {
   "cell_type": "code",
   "execution_count": 7,
   "metadata": {},
   "outputs": [
    {
     "data": {
      "application/vnd.jupyter.widget-view+json": {
       "model_id": "b831dbaf4e4a4f528225c22a850a3132",
       "version_major": 2,
       "version_minor": 0
      },
      "text/plain": [
       "Turtle()"
      ]
     },
     "metadata": {},
     "output_type": "display_data"
    },
    {
     "name": "stdout",
     "output_type": "stream",
     "text": [
      "Введите число от 5 до 20: 20\n"
     ]
    }
   ],
   "source": [
    "star_painter()"
   ]
  },
  {
   "cell_type": "markdown",
   "metadata": {},
   "source": [
    "# Задание 2: Язык племени Мумба-юмба (2.5 балла)"
   ]
  },
  {
   "cell_type": "markdown",
   "metadata": {},
   "source": [
    "Дан текст на языке племени Мумба-Юмба. Запишите в файл все слова, встречающиеся в тексте, разделяя их пробелом. Слова должны быть отсортированы по убыванию их количества появления в тексте, а при одинаковой частоте появления — в алфавитном порядке.\n",
    "\n",
    "Словом считается последовательность непробельных символов идущих подряд, слова разделены одним или большим числом пробелов или символами конца строки. Большие и маленькие буквы считаются различными\n",
    "\n",
    "*Подсказка.* После того, как вы создадите словарь всех слов, вам захочется отсортировать его по частоте встречаемости слова. \n",
    "Вызвав метод dict.items() от вашего словаря вы получите список кортежей вида [('what', 2), ('hi', 2), ('is', 1)]. Чтобы получилось нужная сортировка такой список нужно сначала отсортировать по алфавиту от a до z (первый элемент), а затем по убыванию их количества появления в тексте. Эту задачу можно решить через две сортировки (и не забудьте про параметр key во второй!).\n",
    "\n",
    "*Подсказка 2.* Когда будете записывать слова в файл, не забудьте, что после последнего слова пробела быть не должно.\n",
    "\n",
    "**Входной файл: problem2.txt**  \n",
    "**Приложите к блокноту файл с ответом: output2.txt**\n",
    "\n",
    "Первое слово в правильном ответе: qzjijwnklo, последнее: zzzsrymltasziudkfpqn"
   ]
  },
  {
   "cell_type": "code",
   "execution_count": 2,
   "metadata": {},
   "outputs": [],
   "source": [
    "# ваше решение здесь\n",
    "\n",
    "import os\n",
    "\n",
    "with open('problem2.txt', 'r') as f:\n",
    "    text = [line.strip().split() for line in f.readlines()]\n",
    "    word_dict = {}\n",
    "    \n",
    "    def make_dict(word, word_dict):\n",
    "        if isinstance(word, str):\n",
    "            word_dict[word] = word_dict.get(word, 0) + 1\n",
    "        else:\n",
    "            list(map(lambda x: make_dict(x, word_dict), word))   \n",
    "        return word_dict\n",
    "    \n",
    "    make_dict(text, word_dict)\n",
    "    res = sorted(word_dict.items())\n",
    "    res = sorted(res, key=lambda i: i[1], reverse= True)\n",
    "    \n",
    "    final_str = [word[0] for word in res]\n",
    "    final_str = \" \".join(final_str)\n",
    "    \n",
    "with open('output2.txt', 'w') as f:\n",
    "    f.write(final_str)"
   ]
  },
  {
   "cell_type": "markdown",
   "metadata": {},
   "source": [
    "# Задание 3. Сумма строк (1 балл)\n",
    "\n",
    "Дан файл, каждая строка которого может содержать одно или несколько целых чисел, разделенных одним или несколькими пробелами.\n",
    "\n",
    "Вычислите сумму чисел в каждой строке и выведите эти суммы через пробел (для каждой строки выводится сумма чисел в этой строке).\n",
    "\n",
    "В этой задаче вам нужно подсчитать ответ для данного входного файла. \n",
    "\n",
    "**Входной файл: problem3.txt**  \n",
    "**Ответ выведите в блокноте. **\n",
    "\n",
    "Первое число в ответе: 34568147, последнее: 111\n",
    "\n",
    "Например, если бы содержимое входного файла было следующим:\n",
    "\n",
    "```\n",
    "2 2\n",
    " 3    4\n",
    " 1       5\n",
    "```\n",
    "то в качестве ответа необходимо было бы сдать последовательность чисел\n",
    "\n",
    "4 7 6"
   ]
  },
  {
   "cell_type": "code",
   "execution_count": 3,
   "metadata": {},
   "outputs": [
    {
     "name": "stdout",
     "output_type": "stream",
     "text": [
      "34568147 255016 5617498 0 31397 17 10119996 111\n"
     ]
    }
   ],
   "source": [
    "# ваше решение здесь\n",
    "\n",
    "import os\n",
    "\n",
    "with open('problem3.txt', 'r') as f:\n",
    "    my_list = list(map(lambda line: line.split(), f.readlines()))\n",
    "    result = []\n",
    "    \n",
    "    for line in my_list:\n",
    "        sum_line = sum(list(map(int, line)))\n",
    "        result.append(sum_line)\n",
    "        \n",
    "    print(*result, sep= ' ')"
   ]
  },
  {
   "cell_type": "markdown",
   "metadata": {},
   "source": [
    "# Задание 4: буквы, строки и слова (1.5 балла)\n",
    "Дан файл. Определите сколько в нем букв (латинского алфавита), слов, строк. Выведите три найденных числа в формате, приведенном в примере. Словом считается последовательность больших и маленьких латинских букв. Все остальные символы считаются разделителями слов. Если будете решать регулярками, то будьте аккуратны, потому что некоторые выражения \"захватывают\" кроме букв лишние символы. Если будете пользоваться методами строк, то .isalpha() проверяет на то, что строка является латинской буквой.\n",
    "\n",
    "Пример входного файла:\n",
    "```\n",
    "Beautiful is better than ugly.\n",
    "Explicit is better than implicit.\n",
    "Simple is better than complex.\n",
    "Complex is better than complicated.\n",
    "```\n",
    "Пример ответа:\n",
    "\n",
    "```\n",
    "Input file contains:\n",
    "108 letters \n",
    "20 words \n",
    "4 lines \n",
    "```\n",
    "\n",
    "**Входной файл: problem4.txt**  \n",
    "**Ответ нужно вывести в блокноте по образцу в примере**\n",
    "\n",
    "В количестве букв первая цифра 4, а последняя 3.  \n",
    "В количестве слов: 1 и 6.  \n",
    "В количестве строк: 1 и 0.  "
   ]
  },
  {
   "cell_type": "code",
   "execution_count": 4,
   "metadata": {},
   "outputs": [
    {
     "name": "stdout",
     "output_type": "stream",
     "text": [
      "Input file contains: \n",
      "44473 letters \n",
      "11496 words \n",
      "1000 lines\n"
     ]
    }
   ],
   "source": [
    "# Ваше решение здесь\n",
    "\n",
    "with open('problem4.txt') as f:\n",
    "    text = f.readlines()\n",
    "    text = [line.strip() for line in text]\n",
    "    \n",
    "    letter_count = 0\n",
    "    symbols = set()\n",
    "    for line in text:\n",
    "        for letter in line:\n",
    "            if letter.isalpha():\n",
    "                letter_count += 1\n",
    "            else:\n",
    "                symbols.add(letter)\n",
    "                \n",
    "    word_count = 0\n",
    "    for line in text:\n",
    "        for symbol in symbols:\n",
    "            line = line.replace(symbol, \" \")\n",
    "        word_count += len(line.split())\n",
    "    \n",
    "    lines_count = len(text)\n",
    "    \n",
    "    print(f'Input file contains: \\n{letter_count} letters \\n{word_count} words \\n{lines_count} lines')"
   ]
  },
  {
   "cell_type": "markdown",
   "metadata": {},
   "source": [
    "# Задание 5*: Вася идет в магазин (3 балла)\n",
    "Вася составил таблицу с ценами на продукты в разных магазинах. В первой строке таблицы (кроме первой ячейки) записаны названия продуктов. Во всех строках, начиная со второй, записана информация о ценах в магазине. В первой ячейке написано название магазина, а в ячейках, начиная со второй - цена на товар, название которого записано в первой строке соответствующего столбца.\n",
    "\n",
    "Таблица задана как csv-файл, разделителем ячеек выступает точка с запятой, а строковые константы не окружаются кавычками. При открытии файла задайте кодировку utf8.\n",
    "\n",
    "Вася очень хочет поесть, но денег у него мало. Поэтому помогите ему определить самый дешевый продукт и в каком магазине он продается. Название продукта следует записать в первой строке, а название магазина - во второй. Если несколько товаров стоят одинаково, то выведите то название, которое раньше в алфавитном порядке. Если этот товар продается в нескольких магазинах по одной минимальной цене, то выведите минимальное в алфавитном порядке название магазина.\n",
    "\n",
    "Задачу нужно решить без использования специальных библиотек для работы с табличными данными.\n",
    "\n",
    "**Входной файл: problem5.csv**  \n",
    "**Ответ выведите в блокноте**  "
   ]
  },
  {
   "cell_type": "code",
   "execution_count": 1,
   "metadata": {},
   "outputs": [
    {
     "name": "stdout",
     "output_type": "stream",
     "text": [
      "Листья собачьей петрушки\n",
      "Магнит\n"
     ]
    }
   ],
   "source": [
    "# решение здесь\n",
    "import csv\n",
    "\n",
    "with open('problem5.csv', 'r', encoding='utf8') as csvfile:\n",
    "    csvreader = csv.reader(csvfile, delimiter= \";\")\n",
    "    table = [row for row in csvreader]\n",
    "    \n",
    "    for line in table[1:]:\n",
    "        for num in line[1:]:\n",
    "            line[line.index(num)] = int(num)\n",
    "    \n",
    "    prod_list_of_dict = []\n",
    "    for line in table[1:]:\n",
    "        price = min(line[1:])\n",
    "        prod_list_of_dict.append({\n",
    "            'product': table[0][line.index(price)],\n",
    "            'shop': line[0],\n",
    "            'price': price})\n",
    "        \n",
    "    prod_list_of_dict.sort(key= lambda dicts: (dicts.get('price'), dicts.get('product'), dicts.get('shop')))\n",
    "    \n",
    "    print(prod_list_of_dict[0].get('product'), prod_list_of_dict[0].get('shop'), sep='\\n')"
   ]
  },
  {
   "cell_type": "markdown",
   "metadata": {},
   "source": [
    "# Задание 6. Бронирование комнат (2 балла)\n",
    "\n",
    "Менеджер отеля должен обработать N заказов на бронирование номеров на следующий сезон. В его отеле есть K номеров. Информация о бронировании содержит дату заезда и дату выезда. Менеджер хочет выяснить, достаточно ли номеров в отеле, чтобы удовлетворить спрос. В месяце 30 дней.\n",
    "\n",
    "Входные данные:\n",
    "\n",
    "— Первым на вход подается список с информацией о времени заезда\n",
    "— Вторым — список с информацией о времени выезда\n",
    "— Третьим — К, обозначающее количество номеров\n",
    "\n",
    "Выходные данные:\n",
    "— Логическое значение, которое обозначает возможность забронировать номера\n",
    "false означает, что в отеле не достаточно номеров для N бронирований\n",
    "true означает, что в отеле достаточно номеров для N бронирований\n",
    "\n",
    "Пример:\n",
    "\n",
    "Входные данные:  \n",
    "\n",
    "* даты заезда = [1, 3, 5]\n",
    "* даты выезда = [2, 6, 10]\n",
    "* К = 1\n",
    "\n",
    "Выходные данные: false. В день = 5 в отеле 2 гостя. Но у нас есть только один номер.\n",
    "\n",
    "*Подсказка.* Один из вариантов решения может быть таким - в цикле в каждый день месяца проверять сколько комнат занято в этот день."
   ]
  },
  {
   "cell_type": "code",
   "execution_count": 8,
   "metadata": {},
   "outputs": [],
   "source": [
    "# данные для проверки\n",
    "arrivals = [1, 4, 5, 5, 8, 10, 23, 24, 24, 25]\n",
    "departures = [2, 7, 8, 20, 12, 13, 27, 25, 29, 26]\n",
    "rooms = 2"
   ]
  },
  {
   "cell_type": "code",
   "execution_count": 9,
   "metadata": {},
   "outputs": [
    {
     "data": {
      "text/plain": [
       "[('a', 2423), ('b', 232)]"
      ]
     },
     "execution_count": 9,
     "metadata": {},
     "output_type": "execute_result"
    }
   ],
   "source": [
    "# Возможно вам пригодится структура, когда даты каждого гостя объединены в кортеж (но можно решить и по-другому)\n",
    "# Сделать это можно с помощью функции zip, которой передаются два списка/кортежа одинаковой длины\n",
    "list(zip(['a', 'b'], [2423, 232]))"
   ]
  },
  {
   "cell_type": "code",
   "execution_count": 12,
   "metadata": {},
   "outputs": [
    {
     "name": "stdout",
     "output_type": "stream",
     "text": [
      "Введите даты вьезда гостей через пробел: 1 4 5 5 8 10 23 24 24 25\n",
      "Введите даты выезда гостей через пробел: 2 7 8 20 12 13 27 25 29 26\n",
      "Введите количество номеров: 2\n",
      " false. В дни = 5, 6, 10, 11, 24, 25 в отеле 3, 3, 3, 3, 3, 3 гостя, соответственно. Но у нас есть только 2 номер(ов).\n"
     ]
    }
   ],
   "source": [
    "# Ваше решение здесь\n",
    "arrivals = [int(i) for i in input('Введите даты вьезда гостей через пробел: ').split()]\n",
    "departures = [int(i) for i in input('Введите даты выезда гостей через пробел: ').split()]\n",
    "rooms = int(input('Введите количество номеров: '))\n",
    "days = int(input('Сколько дней в этом месяце: '))\n",
    "\n",
    "guests = 0\n",
    "day_info = {}\n",
    "hotel_info = {}\n",
    "\n",
    "def guests_count(i):\n",
    "    global guests\n",
    "    if i in arrivals:\n",
    "        guests += arrivals.count(i)\n",
    "    if i in departures:\n",
    "        guests -= departures.count(i)\n",
    "    return guests\n",
    "\n",
    "for i in range(1, days + 1):\n",
    "    guests_count(i)\n",
    "    day_info[i] = guests\n",
    "    if day_info[i] > rooms:\n",
    "        hotel_info[i] = guests\n",
    "    \n",
    "if len(list(hotel_info.keys())) > 1:\n",
    "    print(f' false. В дни = {\", \".join(list(map(str, hotel_info.keys())))} в отеле {\", \".join(list(map(str, hotel_info.values())))} гостя, соответственно. Но у нас есть только {rooms} номер(ов).')\n",
    "elif len(list(hotel_info.keys())) == 1:\n",
    "    print(f' false. В день = {list(hotel_info.keys())[0]} в отеле {list(hotel_info.values())[0]} гостя(ей). Но у нас есть только {rooms} номер(ов).')\n",
    "else:\n",
    "    print('true. Мы можем разместить всех гостей.')"
   ]
  },
  {
   "cell_type": "code",
   "execution_count": null,
   "metadata": {},
   "outputs": [],
   "source": []
  }
 ],
 "metadata": {
  "kernelspec": {
   "display_name": "Python 3",
   "language": "python",
   "name": "python3"
  },
  "language_info": {
   "codemirror_mode": {
    "name": "ipython",
    "version": 3
   },
   "file_extension": ".py",
   "mimetype": "text/x-python",
   "name": "python",
   "nbconvert_exporter": "python",
   "pygments_lexer": "ipython3",
   "version": "3.8.8"
  }
 },
 "nbformat": 4,
 "nbformat_minor": 4
}
